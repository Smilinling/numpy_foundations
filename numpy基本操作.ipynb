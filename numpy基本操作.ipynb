{
 "cells": [
  {
   "cell_type": "markdown",
   "metadata": {},
   "source": [
    "## nump 切片，拼接，分裂，变形"
   ]
  },
  {
   "cell_type": "markdown",
   "metadata": {},
   "source": [
    "### array的数据属性\n",
    "* 维度（ndim）；形状(shape)；大小(size)\n",
    "* 轴的概念——通过不同的axis，numpy会沿着不同的方向进行操作；如果axis=0，则沿着纵轴进行操作；axis=1，则沿着横轴进行操作；如果不设置，那么对所有的元素操作"
   ]
  },
  {
   "cell_type": "code",
   "execution_count": 1,
   "metadata": {},
   "outputs": [
    {
     "name": "stdout",
     "output_type": "stream",
     "text": [
      "1 (4,) 4\n"
     ]
    }
   ],
   "source": [
    "import numpy as np\n",
    "a = np.array([2,3,4,5])\n",
    "\n",
    "#一维数组\n",
    "print(a.ndim,a.shape,a.size)"
   ]
  },
  {
   "cell_type": "code",
   "execution_count": 2,
   "metadata": {},
   "outputs": [
    {
     "name": "stdout",
     "output_type": "stream",
     "text": [
      "[[1 2 3]\n",
      " [8 7 6]]\n",
      "2 (2, 3) 6\n"
     ]
    }
   ],
   "source": [
    "#二维数组可以看成多个一维数组\n",
    "b=np.array([[1,2,3],[8,7,6]])\n",
    "print(b)\n",
    "print(b.ndim,b.shape,b.size)"
   ]
  },
  {
   "cell_type": "code",
   "execution_count": 3,
   "metadata": {},
   "outputs": [
    {
     "data": {
      "text/plain": [
       "2"
      ]
     },
     "execution_count": 3,
     "metadata": {},
     "output_type": "execute_result"
    }
   ],
   "source": [
    "b.ndim"
   ]
  },
  {
   "cell_type": "code",
   "execution_count": 4,
   "metadata": {},
   "outputs": [
    {
     "name": "stdout",
     "output_type": "stream",
     "text": [
      "[[[1 2]\n",
      "  [7 6]]\n",
      "\n",
      " [[1 2]\n",
      "  [4 5]]]\n",
      "3 (2, 2, 2) 8\n"
     ]
    }
   ],
   "source": [
    "#所谓三维数组可以看成多个二维数组，数据分析多是二维数组，高维数组并不常用\n",
    "b=np.array([[[1,2],[7,6]],[[1,2],[4,5]]])\n",
    "print(b)\n",
    "b.ndim\n",
    "print(b.ndim,b.shape,b.size)"
   ]
  },
  {
   "cell_type": "code",
   "execution_count": 5,
   "metadata": {},
   "outputs": [
    {
     "name": "stdout",
     "output_type": "stream",
     "text": [
      "16 [ 3 13] [8 8]\n"
     ]
    }
   ],
   "source": [
    "# 轴决定操作方向\n",
    "b=np.array([[1,2],[7,6]])\n",
    "print(np.sum(b),np.sum(b, axis=1),np.sum(b,axis=0))"
   ]
  },
  {
   "cell_type": "markdown",
   "metadata": {},
   "source": [
    "# 数组的操作\n",
    "* 切片；拼接；分裂；变形"
   ]
  },
  {
   "cell_type": "markdown",
   "metadata": {},
   "source": [
    "### 切片\n",
    "* 第一个位置是0号位；\n",
    "* 包含起点包含终点；\n",
    "* : 代表获取全部；\n",
    "* 双 : 表示间隔；\n",
    "* 负数为倒取；\n",
    "* 视图与副本（copy）"
   ]
  },
  {
   "cell_type": "code",
   "execution_count": 6,
   "metadata": {},
   "outputs": [
    {
     "name": "stdout",
     "output_type": "stream",
     "text": [
      "[[1 2 0 3]\n",
      " [4 7 6 1]\n",
      " [7 2 8 9]]\n"
     ]
    }
   ],
   "source": [
    "b = np.array([[1,2,0,3],[4,7,6,1],[7,2,8,9]])\n",
    "print(b)"
   ]
  },
  {
   "cell_type": "code",
   "execution_count": 7,
   "metadata": {},
   "outputs": [
    {
     "name": "stdout",
     "output_type": "stream",
     "text": [
      "6\n"
     ]
    }
   ],
   "source": [
    "# 对二维数组：[行 ，列]\n",
    "print(b[1,2])\n"
   ]
  },
  {
   "cell_type": "code",
   "execution_count": 8,
   "metadata": {},
   "outputs": [
    {
     "name": "stdout",
     "output_type": "stream",
     "text": [
      "[2]\n",
      "[2 7 2]\n",
      "[7 2 8 9]\n",
      "[2 2]\n",
      "[[4 7]\n",
      " [7 2]]\n"
     ]
    }
   ],
   "source": [
    "# #注意切片后类型的变化,一个:一维；两个:二维\n",
    "print(b[0:1,1])\n",
    "print(b[:,1])\n",
    "print(b[2,:])\n",
    "print(b[::2,1])\n",
    "print(b[-2:,0:2])"
   ]
  },
  {
   "cell_type": "code",
   "execution_count": 10,
   "metadata": {},
   "outputs": [
    {
     "data": {
      "text/plain": [
       "array([[1, 2, 0, 3],\n",
       "       [4, 7, 6, 1],\n",
       "       [7, 2, 8, 9]])"
      ]
     },
     "execution_count": 10,
     "metadata": {},
     "output_type": "execute_result"
    }
   ],
   "source": [
    "b"
   ]
  },
  {
   "cell_type": "code",
   "execution_count": 11,
   "metadata": {},
   "outputs": [
    {
     "name": "stdout",
     "output_type": "stream",
     "text": [
      "[[1 2 0 3]\n",
      " [4 7 6 1]\n",
      " [7 2 8 9]] 3\n"
     ]
    }
   ],
   "source": [
    "b1=b[1,2]\n",
    "b1=3\n",
    "print(b,b1)"
   ]
  },
  {
   "cell_type": "code",
   "execution_count": 13,
   "metadata": {},
   "outputs": [
    {
     "name": "stdout",
     "output_type": "stream",
     "text": [
      "[[  1   2   0   3]\n",
      " [  4   7   6   1]\n",
      " [  7   2 100   9]]\n",
      "[[  7   6]\n",
      " [  2 100]]\n"
     ]
    }
   ],
   "source": [
    "#当截取数组的某个子数组的时候，子数组中的元素变化原来数组也发生变化，这种子数组本质是只是原数组的一个“视图”\n",
    "b1=b[1:3,1:3]\n",
    "b1[1,1]=100\n",
    "print(b)\n",
    "print(b1)"
   ]
  },
  {
   "cell_type": "markdown",
   "metadata": {},
   "source": [
    "#### copy方法产生真正的副本\n",
    "* 不应副本直接选出数组赋值，相应的，会改变原始数组"
   ]
  },
  {
   "cell_type": "code",
   "execution_count": 15,
   "metadata": {},
   "outputs": [
    {
     "name": "stdout",
     "output_type": "stream",
     "text": [
      "[[  1   2   0   3]\n",
      " [  4   7   6   1]\n",
      " [  7   2 100   9]]\n",
      "[[  1   2   0   3]\n",
      " [  4   7   6   1]\n",
      " [  7   2 100   9]]\n",
      "[[ 7  6]\n",
      " [ 2 88]]\n"
     ]
    }
   ],
   "source": [
    "print(b)\n",
    "b1=b[1:3,1:3].copy()\n",
    "b1[1,1]=88\n",
    "print(b)\n",
    "print(b1)"
   ]
  },
  {
   "cell_type": "markdown",
   "metadata": {},
   "source": [
    "### 数组的拼接"
   ]
  },
  {
   "cell_type": "code",
   "execution_count": 18,
   "metadata": {},
   "outputs": [
    {
     "data": {
      "text/plain": [
       "array([[7, 8, 9],\n",
       "       [2, 4, 1]])"
      ]
     },
     "execution_count": 18,
     "metadata": {},
     "output_type": "execute_result"
    }
   ],
   "source": [
    "a1=np.array([[1,3,4],[3,5,6]])\n",
    "a2=np.array([[7,8,9],[2,4,1]])\n",
    "a2"
   ]
  },
  {
   "cell_type": "code",
   "execution_count": 19,
   "metadata": {},
   "outputs": [
    {
     "name": "stdout",
     "output_type": "stream",
     "text": [
      "[[1 3 4]\n",
      " [3 5 6]\n",
      " [7 8 9]\n",
      " [2 4 1]]\n"
     ]
    }
   ],
   "source": [
    "print(np.concatenate([a1,a2],axis = 0))"
   ]
  },
  {
   "cell_type": "code",
   "execution_count": 20,
   "metadata": {},
   "outputs": [
    {
     "name": "stdout",
     "output_type": "stream",
     "text": [
      "[[1 3 4 7 8 9]\n",
      " [3 5 6 2 4 1]]\n"
     ]
    }
   ],
   "source": [
    "print(np.concatenate([a1,a2],axis=1))"
   ]
  },
  {
   "cell_type": "code",
   "execution_count": 21,
   "metadata": {},
   "outputs": [
    {
     "name": "stdout",
     "output_type": "stream",
     "text": [
      "[[1 3 4]\n",
      " [3 5 6]\n",
      " [1 3 4]\n",
      " [3 5 6]\n",
      " [3 5 4]]\n"
     ]
    }
   ],
   "source": [
    "#横向拼接要求更严格\n",
    "a1=np.array([[1,3,4],[3,5,6]])\n",
    "a2=np.array([[1,3,4],[3,5,6],[3,5,4]])\n",
    "print(np.concatenate([a1,a2],axis=0))"
   ]
  },
  {
   "cell_type": "markdown",
   "metadata": {},
   "source": [
    "### 分裂"
   ]
  },
  {
   "cell_type": "code",
   "execution_count": 24,
   "metadata": {},
   "outputs": [
    {
     "name": "stdout",
     "output_type": "stream",
     "text": [
      "[2, 1, 4, 5, 2, 5, 7, 8]\n"
     ]
    },
    {
     "data": {
      "text/plain": [
       "[array([2, 1]), array([4, 5]), array([2, 5, 7, 8])]"
      ]
     },
     "execution_count": 24,
     "metadata": {},
     "output_type": "execute_result"
    }
   ],
   "source": [
    "#位置列表\n",
    "x = [2,1,4,5,2,5,7,8]\n",
    "print(x)\n",
    "np.split(x,[2,4])"
   ]
  },
  {
   "cell_type": "code",
   "execution_count": 25,
   "metadata": {},
   "outputs": [
    {
     "name": "stdout",
     "output_type": "stream",
     "text": [
      "[[2 1 4 5]\n",
      " [2 1 5 7]\n",
      " [5 2 3 6]\n",
      " [7 2 7 1]]\n",
      "[array([[2, 1, 4, 5],\n",
      "       [2, 1, 5, 7]]), array([[5, 2, 3, 6]]), array([[7, 2, 7, 1]])]\n",
      "[array([[2, 1],\n",
      "       [2, 1],\n",
      "       [5, 2],\n",
      "       [7, 2]]), array([[4],\n",
      "       [5],\n",
      "       [3],\n",
      "       [7]]), array([[5],\n",
      "       [7],\n",
      "       [6],\n",
      "       [1]])]\n"
     ]
    }
   ],
   "source": [
    "x=np.array([[2,1,4,5],[2,1,5,7],[5,2,3,6],[7,2,7,1]])\n",
    "print(x)\n",
    "print(np.split(x,[2,3],axis=0))\n",
    "print(np.split(x,[2,3],axis=1))"
   ]
  },
  {
   "cell_type": "markdown",
   "metadata": {},
   "source": [
    "### 变形"
   ]
  },
  {
   "cell_type": "code",
   "execution_count": 27,
   "metadata": {},
   "outputs": [
    {
     "name": "stdout",
     "output_type": "stream",
     "text": [
      "[ 0  1  2  3  4  5  6  7  8  9 10 11]\n"
     ]
    }
   ],
   "source": [
    "a=np.arange(12)\n",
    "print(a)"
   ]
  },
  {
   "cell_type": "code",
   "execution_count": 28,
   "metadata": {},
   "outputs": [
    {
     "name": "stdout",
     "output_type": "stream",
     "text": [
      "[[ 0  1  2]\n",
      " [ 3  4  5]\n",
      " [ 6  7  8]\n",
      " [ 9 10 11]]\n",
      "[[ 0  1  2  3  4  5  6  7  8  9 10 11]]\n",
      "[[ 0  1  2  3]\n",
      " [ 4  5  6  7]\n",
      " [ 8  9 10 11]]\n"
     ]
    }
   ],
   "source": [
    "print(a.reshape(4,3))\n",
    "print(a.reshape(1,12))\n",
    "print(a.reshape(3,4))"
   ]
  },
  {
   "cell_type": "code",
   "execution_count": 29,
   "metadata": {},
   "outputs": [
    {
     "name": "stdout",
     "output_type": "stream",
     "text": [
      "[[[ 0  1  2]\n",
      "  [ 3  4  5]]\n",
      "\n",
      " [[ 6  7  8]\n",
      "  [ 9 10 11]]]\n"
     ]
    }
   ],
   "source": [
    "print(a.reshape(2,2,3))"
   ]
  },
  {
   "cell_type": "code",
   "execution_count": null,
   "metadata": {},
   "outputs": [],
   "source": []
  }
 ],
 "metadata": {
  "kernelspec": {
   "display_name": "Python 3",
   "language": "python",
   "name": "python3"
  },
  "language_info": {
   "codemirror_mode": {
    "name": "ipython",
    "version": 3
   },
   "file_extension": ".py",
   "mimetype": "text/x-python",
   "name": "python",
   "nbconvert_exporter": "python",
   "pygments_lexer": "ipython3",
   "version": "3.6.4"
  }
 },
 "nbformat": 4,
 "nbformat_minor": 2
}
