{
 "cells": [
  {
   "cell_type": "markdown",
   "metadata": {},
   "source": [
    "## scipy\n",
    "SciPy是一款方便、易于使用、专为科学和工程设计的Python工具包.它包括统计,优化,整合,线性代数模块,傅里叶变换,信号和图像处理,常微分方程求解器等等.\n"
   ]
  },
  {
   "cell_type": "markdown",
   "metadata": {},
   "source": [
    "## scipy的功能\n",
    "特殊函数 (scipy.special)\n",
    "\n",
    "积分 (scipy.integrate)\n",
    "\n",
    "优化 (scipy.optimize)\n",
    "\n",
    "插值 (scipy.interpolate)\n",
    "\n",
    "傅立叶变换 (scipy.fftpack)\n",
    "\n",
    "信号处理 (scipy.signal)\n",
    "\n",
    "线性代数 (scipy.linalg)\n",
    "\n",
    "稀疏特征值 (scipy.sparse)\n",
    "\n",
    "统计 (scipy.stats)\n",
    "\n",
    "多维图像处理 (scipy.ndimage)\n",
    "\n",
    "文件 IO (scipy.io)"
   ]
  },
  {
   "cell_type": "markdown",
   "metadata": {},
   "source": [
    "### optimize.leastsq 最小二次乘法求极小值函数"
   ]
  },
  {
   "cell_type": "code",
   "execution_count": 2,
   "metadata": {},
   "outputs": [],
   "source": [
    "import numpy as np\n",
    "from scipy import optimize\n",
    "import pylab"
   ]
  },
  {
   "cell_type": "code",
   "execution_count": 3,
   "metadata": {},
   "outputs": [
    {
     "name": "stdout",
     "output_type": "stream",
     "text": [
      "(array([0.72468836, 1.52530491]), 2)\n"
     ]
    }
   ],
   "source": [
    "x = np.array([8.23,2.72,6.39,8.71,4.7,2.0,3.78])\n",
    "y = np.array([9.01,2.58,6.47,6.71,4.1,4.23,4.05])\n",
    "def cc(p):\n",
    "    k,b = p\n",
    "    return y-(k*x+b)#注意返回的结果是一个矩阵\n",
    "r = optimize.leastsq(cc,[1,0])\n",
    "print(r)#0号位为拟合出来的参数，1号位如果是为小于或是等于4的整数则说明拟合成功"
   ]
  },
  {
   "cell_type": "markdown",
   "metadata": {},
   "source": [
    "### 直角坐标下取bins\n",
    "当曲线点的波动非常大时（比如有周期性波动），此时取bins能比较好的观察整体规律\n",
    "* np.linspace\n",
    "* np.histogram"
   ]
  },
  {
   "cell_type": "code",
   "execution_count": 5,
   "metadata": {},
   "outputs": [
    {
     "data": {
      "text/plain": [
       "array([2.        , 2.47777778, 2.95555556, 3.43333333, 3.91111111,\n",
       "       4.38888889, 4.86666667, 5.34444444, 5.82222222, 6.3       ])"
      ]
     },
     "execution_count": 5,
     "metadata": {},
     "output_type": "execute_result"
    }
   ],
   "source": [
    "#均匀选取确定范围内的n个值\n",
    "np.linspace(2,6.3,10)"
   ]
  },
  {
   "cell_type": "code",
   "execution_count": 6,
   "metadata": {},
   "outputs": [
    {
     "data": {
      "text/plain": [
       "array([1. , 3.5, 6. ])"
      ]
     },
     "execution_count": 6,
     "metadata": {},
     "output_type": "execute_result"
    }
   ],
   "source": [
    "a=np.array([2,1,3,4,6,2,1])\n",
    "bins=np.linspace(1,6,3) # 在1-6之间取3个数1,3.5（均值）,6 \n",
    "bins"
   ]
  },
  {
   "cell_type": "code",
   "execution_count": 7,
   "metadata": {},
   "outputs": [
    {
     "data": {
      "text/plain": [
       "(array([5, 2], dtype=int64), array([1. , 3.5, 6. ]))"
      ]
     },
     "execution_count": 7,
     "metadata": {},
     "output_type": "execute_result"
    }
   ],
   "source": [
    "np.histogram(a,bins)#histogram会计算区间之间的满足条件的数据个数，结果中0号位为统计结果，1号位为对应的区间"
   ]
  },
  {
   "cell_type": "code",
   "execution_count": null,
   "metadata": {},
   "outputs": [],
   "source": []
  }
 ],
 "metadata": {
  "kernelspec": {
   "display_name": "Python 3",
   "language": "python",
   "name": "python3"
  },
  "language_info": {
   "codemirror_mode": {
    "name": "ipython",
    "version": 3
   },
   "file_extension": ".py",
   "mimetype": "text/x-python",
   "name": "python",
   "nbconvert_exporter": "python",
   "pygments_lexer": "ipython3",
   "version": "3.6.4"
  }
 },
 "nbformat": 4,
 "nbformat_minor": 2
}
