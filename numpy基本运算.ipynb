{
 "cells": [
  {
   "cell_type": "markdown",
   "metadata": {},
   "source": [
    "## numpy数组通用函数\n",
    "### 数组与常熟的基本运算\n",
    "* 数组与任意常数的运算都会默认遍历到数组的中每一个元素\n",
    "* numpy数组与常数的运算符号本质上就是一系列自定义函数"
   ]
  },
  {
   "cell_type": "code",
   "execution_count": 4,
   "metadata": {},
   "outputs": [
    {
     "data": {
      "image/png": "[encoded data removed]",
      "text/plain": [
       "<Figure size 432x288 with 1 Axes>"
      ]
     },
     "metadata": {
      "needs_background": "light"
     },
     "output_type": "display_data"
    }
   ],
   "source": [
    "import pylab\n",
    "x=range(0,4)\n",
    "y=[i*5 for i in x]#python的经典语法里元素遍历运算必然要使用循环\n",
    "pylab.plot(x,y,\"-o\")\n",
    "pylab.show()"
   ]
  },
  {
   "cell_type": "code",
   "execution_count": 3,
   "metadata": {},
   "outputs": [
    {
     "data": {
      "image/png": "[encoded data removed]",
      "text/plain": [
       "<Figure size 432x288 with 1 Axes>"
      ]
     },
     "metadata": {
      "needs_background": "light"
     },
     "output_type": "display_data"
    }
   ],
   "source": [
    "import numpy as np\n",
    "x1=np.arange(0,4)\n",
    "y1=x1*5#在numpy的数组里循环遍历的运算已经内在的包含在运算符号中了\n",
    "pylab.plot(x1,y1,\"-o\")\n",
    "pylab.show()"
   ]
  },
  {
   "cell_type": "code",
   "execution_count": 5,
   "metadata": {},
   "outputs": [
    {
     "name": "stdout",
     "output_type": "stream",
     "text": [
      "[0, 1, 2, 3] [0 1 2 3]\n",
      "[0, 1, 2, 3, 0, 1, 2, 3, 0, 1, 2, 3]\n",
      "[0 3 6 9]\n",
      "[0 3 6 9]\n"
     ]
    }
   ],
   "source": [
    "x = [0,1,2,3]\n",
    "x1 = np.arange(0,4)\n",
    "print(x,x1)\n",
    "print(x*3)\n",
    "print(x1*3)\n",
    "print(np.multiply(x1,3))"
   ]
  },
  {
   "cell_type": "code",
   "execution_count": 6,
   "metadata": {},
   "outputs": [
    {
     "name": "stdout",
     "output_type": "stream",
     "text": [
      "[-2 -1  0  1] [-2 -1  0  1]\n",
      "[2 3 4 5] [2 3 4 5]\n",
      "[0.  0.5 1.  1.5] [0.  0.5 1.  1.5]\n",
      "[0 1 0 1] [0 1 0 1]\n",
      "[0 1 4 9] [0 1 4 9]\n",
      "[0 0 1 1] [0 0 1 1]\n"
     ]
    }
   ],
   "source": [
    "x1=np.arange(0,4)\n",
    "print(x1-2,np.subtract(x1,2))#减\n",
    "print(x1+2,np.add(x1,2))#加\n",
    "print(x1/2,np.divide(x1,2))#注意这里不取整\n",
    "print(x1%2,np.mod(x1,2))#求余数\n",
    "print(x1**2,np.power(x1,2))#乘方\n",
    "print(x1//2,np.floor_divide(x1,2))#地板除"
   ]
  },
  {
   "cell_type": "markdown",
   "metadata": {},
   "source": [
    "### 数组的函数"
   ]
  },
  {
   "cell_type": "code",
   "execution_count": 7,
   "metadata": {},
   "outputs": [
    {
     "name": "stdout",
     "output_type": "stream",
     "text": [
      "[1 2 4 1] [-0.84147098  0.90929743  0.7568025   0.84147098] [ 0.54030231 -0.41614684 -0.65364362  0.54030231] [-1.55740772 -2.18503986 -1.15782128  1.55740772] [0.36787944 7.3890561  0.01831564 2.71828183]\n"
     ]
    }
   ],
   "source": [
    "x=np.array([-1,2,-4,1])\n",
    "print(np.absolute(x),np.sin(x),np.cos(x),np.tan(x),np.exp(x))#绝对值，正弦，余弦，正切，e的x次方"
   ]
  },
  {
   "cell_type": "code",
   "execution_count": 8,
   "metadata": {},
   "outputs": [
    {
     "name": "stdout",
     "output_type": "stream",
     "text": [
      "[1.09861229 0.69314718 1.60943791 1.94591015 2.07944154] [0.47712125 0.30103    0.69897    0.84509804 0.90308999] [  8   4  32 128 256]\n"
     ]
    }
   ],
   "source": [
    "x=np.array([3,2,5,7,8])\n",
    "print(np.log(x),np.log10(x),np.power(2,x))#e为底，10位底对数；x元素为幂指数，对元素有要求"
   ]
  },
  {
   "cell_type": "markdown",
   "metadata": {},
   "source": [
    "### 统计函数\n",
    "\n",
    "*numpy能完成一些统计功能，不过鉴于pandas的统计功能更加完善，因此这里简单介绍"
   ]
  },
  {
   "cell_type": "code",
   "execution_count": 10,
   "metadata": {},
   "outputs": [
    {
     "name": "stdout",
     "output_type": "stream",
     "text": [
      "20 1 8 4.0\n"
     ]
    }
   ],
   "source": [
    "x=np.array([2,1,5,4,8])\n",
    "print(np.sum(x),np.min(x),np.max(x),np.mean(x))"
   ]
  },
  {
   "cell_type": "code",
   "execution_count": 11,
   "metadata": {},
   "outputs": [
    {
     "name": "stdout",
     "output_type": "stream",
     "text": [
      "320\n",
      "2.449489742783178\n",
      "6.0\n",
      "1 4\n",
      "4.0\n"
     ]
    }
   ],
   "source": [
    "print(np.prod(x))#求累乘\n",
    "print(np.std(x))#标准差\n",
    "print(np.var(x))#方差\n",
    "print(np.argmin(x),np.argmax(x))#最小值最大值的位置\n",
    "print(np.percentile(x,50))#分位数"
   ]
  },
  {
   "cell_type": "code",
   "execution_count": 12,
   "metadata": {},
   "outputs": [
    {
     "name": "stdout",
     "output_type": "stream",
     "text": [
      "(2, 5)\n"
     ]
    }
   ],
   "source": [
    "x=np.array([[2,1,5,4,8],\n",
    "            [0,3,5,7,2]])\n",
    "print(np.shape(x))"
   ]
  },
  {
   "cell_type": "code",
   "execution_count": 14,
   "metadata": {},
   "outputs": [
    {
     "name": "stdout",
     "output_type": "stream",
     "text": [
      "37 [ 2  4 10 11 10]\n"
     ]
    }
   ],
   "source": [
    "print(np.sum(x),np.sum(x,axis=0))"
   ]
  },
  {
   "cell_type": "code",
   "execution_count": 15,
   "metadata": {},
   "outputs": [
    {
     "name": "stdout",
     "output_type": "stream",
     "text": [
      "2.4515301344262523 [2.44948974 2.41660919]\n"
     ]
    }
   ],
   "source": [
    "print(np.std(x),np.std(x,axis=1))"
   ]
  },
  {
   "cell_type": "markdown",
   "metadata": {},
   "source": [
    "## numpy数组的广播机制"
   ]
  },
  {
   "cell_type": "markdown",
   "metadata": {},
   "source": [
    "### 数组与同维度数组的基本运算\n",
    "* numpy数组之间的运算和线性代数中的矩阵运算不一样\n",
    "* 同维度和形状的数组之间就是同位置的元素两两匹配运算的过程"
   ]
  },
  {
   "cell_type": "code",
   "execution_count": 17,
   "metadata": {},
   "outputs": [
    {
     "name": "stdout",
     "output_type": "stream",
     "text": [
      "(2, 3) (2, 3)\n"
     ]
    }
   ],
   "source": [
    "import numpy as np\n",
    "\n",
    "a=np.array([[ 1.,  2.,  1.],\n",
    "            [ 1.,  2.,  1.]])\n",
    "b=np.array([[ 1.,  2.,  3.],\n",
    "            [ 1.,  2.,  3.]])\n",
    "print(a.shape,b.shape)"
   ]
  },
  {
   "cell_type": "code",
   "execution_count": 18,
   "metadata": {},
   "outputs": [
    {
     "data": {
      "text/plain": [
       "array([[2., 4., 4.],\n",
       "       [2., 4., 4.]])"
      ]
     },
     "execution_count": 18,
     "metadata": {},
     "output_type": "execute_result"
    }
   ],
   "source": [
    "a+b"
   ]
  },
  {
   "cell_type": "code",
   "execution_count": 19,
   "metadata": {},
   "outputs": [
    {
     "data": {
      "text/plain": [
       "array([[1., 4., 3.],\n",
       "       [1., 4., 3.]])"
      ]
     },
     "execution_count": 19,
     "metadata": {},
     "output_type": "execute_result"
    }
   ],
   "source": [
    "a*b"
   ]
  },
  {
   "cell_type": "code",
   "execution_count": 20,
   "metadata": {},
   "outputs": [
    {
     "data": {
      "text/plain": [
       "array([[ 0.,  0., -2.],\n",
       "       [ 0.,  0., -2.]])"
      ]
     },
     "execution_count": 20,
     "metadata": {},
     "output_type": "execute_result"
    }
   ],
   "source": [
    "a-b"
   ]
  },
  {
   "cell_type": "markdown",
   "metadata": {},
   "source": [
    "### 当两个数组维度不一致的时候\n",
    "* 少的数组在某一个轴（或是多个轴）的方向缺失数据，缺数据的那个方向只能有1个元素（或是一行，一面）作为复制蓝本，\n",
    "然后依照轴的方向复制，复制数由多的那个数组的大小决定"
   ]
  },
  {
   "cell_type": "code",
   "execution_count": 21,
   "metadata": {},
   "outputs": [],
   "source": [
    "a=np.array([[ 1.,  2.,  1.],\n",
    "            [ 1.,  2.,  1.]])"
   ]
  },
  {
   "cell_type": "code",
   "execution_count": 22,
   "metadata": {},
   "outputs": [
    {
     "name": "stdout",
     "output_type": "stream",
     "text": [
      "[[6. 7. 6.]\n",
      " [6. 7. 6.]]\n",
      "[[6. 7. 6.]\n",
      " [6. 7. 6.]]\n"
     ]
    }
   ],
   "source": [
    "#数组与常数的相加可以看成把常数按照数组的形状进行复制然后在相加的过程\n",
    "print(a+5)\n",
    "print(a+np.array([[ 5.,  5.,  5.],\n",
    "                  [ 5.,  5.,  5.]]))"
   ]
  },
  {
   "cell_type": "code",
   "execution_count": 23,
   "metadata": {},
   "outputs": [
    {
     "name": "stdout",
     "output_type": "stream",
     "text": [
      "[[4. 4. 2.]\n",
      " [4. 4. 2.]\n",
      " [4. 4. 2.]]\n"
     ]
    }
   ],
   "source": [
    "a=np.array([[ 1.,  2.,  1.],\n",
    "            [ 1.,  2.,  1.],\n",
    "            [ 1.,  2.,  1.]])\n",
    "b=np.array([[ 3.,  2.,  1.]])\n",
    "print(a+b)"
   ]
  },
  {
   "cell_type": "code",
   "execution_count": 24,
   "metadata": {},
   "outputs": [
    {
     "name": "stdout",
     "output_type": "stream",
     "text": [
      "[[4. 5. 4.]\n",
      " [3. 4. 3.]\n",
      " [2. 3. 2.]]\n"
     ]
    }
   ],
   "source": [
    "a=np.array([[ 1.,  2.,  1.],\n",
    "            [ 1.,  2.,  1.],\n",
    "            [ 1.,  2.,  1.]])\n",
    "b=np.array([[3.], \n",
    "            [2.], \n",
    "            [1.]])\n",
    "print(a+b)"
   ]
  },
  {
   "cell_type": "markdown",
   "metadata": {},
   "source": [
    "### 两个数组都需要复制的情况\n"
   ]
  },
  {
   "cell_type": "code",
   "execution_count": 26,
   "metadata": {},
   "outputs": [
    {
     "data": {
      "text/plain": [
       "array([[2., 3., 2.],\n",
       "       [3., 4., 3.],\n",
       "       [2., 3., 2.],\n",
       "       [5., 6., 5.]])"
      ]
     },
     "execution_count": 26,
     "metadata": {},
     "output_type": "execute_result"
    }
   ],
   "source": [
    "a=np.array([[ 1.,  2.,  1.]])\n",
    "b=np.array([[ 1.],\n",
    "            [ 2.],\n",
    "            [ 1.],\n",
    "            [ 4.]])\n",
    "a+b"
   ]
  },
  {
   "cell_type": "code",
   "execution_count": null,
   "metadata": {},
   "outputs": [],
   "source": []
  }
 ],
 "metadata": {
  "kernelspec": {
   "display_name": "Python 3",
   "language": "python",
   "name": "python3"
  },
  "language_info": {
   "codemirror_mode": {
    "name": "ipython",
    "version": 3
   },
   "file_extension": ".py",
   "mimetype": "text/x-python",
   "name": "python",
   "nbconvert_exporter": "python",
   "pygments_lexer": "ipython3",
   "version": "3.6.4"
  }
 },
 "nbformat": 4,
 "nbformat_minor": 2
}
