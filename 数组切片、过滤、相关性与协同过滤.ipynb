{
 "cells": [
  {
   "cell_type": "markdown",
   "metadata": {},
   "source": [
    "## 数组切片、过滤、相关性与协同过滤"
   ]
  },
  {
   "cell_type": "code",
   "execution_count": 1,
   "metadata": {},
   "outputs": [],
   "source": [
    "import numpy as np"
   ]
  },
  {
   "cell_type": "markdown",
   "metadata": {},
   "source": [
    "### 切片"
   ]
  },
  {
   "cell_type": "code",
   "execution_count": 4,
   "metadata": {},
   "outputs": [
    {
     "data": {
      "text/plain": [
       "array([2, 1, 4, 5, 6])"
      ]
     },
     "execution_count": 4,
     "metadata": {},
     "output_type": "execute_result"
    }
   ],
   "source": [
    "a=np.array([[2,1,4,6,2],\n",
    "            [3,2,3,4,5],\n",
    "            [2,1,4,5,6]])\n",
    "a[2,:]\n"
   ]
  },
  {
   "cell_type": "code",
   "execution_count": 3,
   "metadata": {},
   "outputs": [
    {
     "data": {
      "text/plain": [
       "array([[1, 6],\n",
       "       [2, 4],\n",
       "       [1, 5]])"
      ]
     },
     "execution_count": 3,
     "metadata": {},
     "output_type": "execute_result"
    }
   ],
   "source": [
    "a[:,[1,3]]"
   ]
  },
  {
   "cell_type": "markdown",
   "metadata": {},
   "source": [
    "### 过滤\n",
    "* where\\delete"
   ]
  },
  {
   "cell_type": "code",
   "execution_count": 6,
   "metadata": {},
   "outputs": [
    {
     "data": {
      "text/plain": [
       "array([[2, 1, 4, 6, 2],\n",
       "       [3, 2, 3, 4, 5],\n",
       "       [2, 1, 4, 5, 6]])"
      ]
     },
     "execution_count": 6,
     "metadata": {},
     "output_type": "execute_result"
    }
   ],
   "source": [
    "a"
   ]
  },
  {
   "cell_type": "code",
   "execution_count": 7,
   "metadata": {},
   "outputs": [
    {
     "data": {
      "text/plain": [
       "array([[False, False,  True,  True, False],\n",
       "       [False, False, False,  True,  True],\n",
       "       [False, False,  True,  True,  True]])"
      ]
     },
     "execution_count": 7,
     "metadata": {},
     "output_type": "execute_result"
    }
   ],
   "source": [
    "a>3 #结果为布尔变量"
   ]
  },
  {
   "cell_type": "code",
   "execution_count": 8,
   "metadata": {},
   "outputs": [
    {
     "data": {
      "text/plain": [
       "array([4, 6, 3, 3, 4, 5, 4, 5, 6])"
      ]
     },
     "execution_count": 8,
     "metadata": {},
     "output_type": "execute_result"
    }
   ],
   "source": [
    "#选择所有满足条件的元素，但是原来的数组形状变为一维向量\n",
    "a[a>2]"
   ]
  },
  {
   "cell_type": "code",
   "execution_count": 10,
   "metadata": {},
   "outputs": [
    {
     "data": {
      "text/plain": [
       "(array([0, 0, 1, 1, 1, 1, 2, 2, 2], dtype=int64),\n",
       " array([2, 3, 0, 2, 3, 4, 2, 3, 4], dtype=int64))"
      ]
     },
     "execution_count": 10,
     "metadata": {},
     "output_type": "execute_result"
    }
   ],
   "source": [
    "#选择满足条件元素的位置，0号位为行标，1号位为列标\n",
    "np.where(a>2)"
   ]
  },
  {
   "cell_type": "code",
   "execution_count": 11,
   "metadata": {},
   "outputs": [
    {
     "data": {
      "text/plain": [
       "array([[0, 0, 4, 6, 0],\n",
       "       [0, 0, 0, 4, 5],\n",
       "       [0, 0, 4, 5, 6]])"
      ]
     },
     "execution_count": 11,
     "metadata": {},
     "output_type": "execute_result"
    }
   ],
   "source": [
    "#确定所有满足条件的位置，并把不满足条件的元素用0替代\n",
    "np.where(a>3,a,0)"
   ]
  },
  {
   "cell_type": "code",
   "execution_count": 12,
   "metadata": {},
   "outputs": [
    {
     "data": {
      "text/plain": [
       "array([[3, 2, 3, 4, 5],\n",
       "       [2, 1, 4, 5, 6]])"
      ]
     },
     "execution_count": 12,
     "metadata": {},
     "output_type": "execute_result"
    }
   ],
   "source": [
    "#删除对应行，注意axis=0决定了列表中[0,2]为行标\n",
    "np.delete(a, [0], axis=0) #删除第0行"
   ]
  },
  {
   "cell_type": "code",
   "execution_count": 14,
   "metadata": {},
   "outputs": [
    {
     "data": {
      "text/plain": [
       "array([[1, 4, 6, 2],\n",
       "       [2, 3, 4, 5],\n",
       "       [1, 4, 5, 6]])"
      ]
     },
     "execution_count": 14,
     "metadata": {},
     "output_type": "execute_result"
    }
   ],
   "source": [
    "#axis=1，则此时为列标 \n",
    "np.delete(a, [0], axis=1)#删除第0列"
   ]
  },
  {
   "cell_type": "code",
   "execution_count": 15,
   "metadata": {},
   "outputs": [
    {
     "data": {
      "text/plain": [
       "array([[1, 6, 2],\n",
       "       [2, 4, 5],\n",
       "       [1, 5, 6]])"
      ]
     },
     "execution_count": 15,
     "metadata": {},
     "output_type": "execute_result"
    }
   ],
   "source": [
    "#axis=1，则此时为列标\n",
    "np.delete(a, [0, 2], axis=1) #删除第0,2列"
   ]
  },
  {
   "cell_type": "code",
   "execution_count": 19,
   "metadata": {},
   "outputs": [
    {
     "data": {
      "text/plain": [
       "array([3, 4], dtype=int64)"
      ]
     },
     "execution_count": 19,
     "metadata": {},
     "output_type": "execute_result"
    }
   ],
   "source": [
    "np.where(a>5)[1] # 取第1个点的行列坐标"
   ]
  },
  {
   "cell_type": "code",
   "execution_count": 20,
   "metadata": {},
   "outputs": [
    {
     "data": {
      "text/plain": [
       "array([[2, 1, 4],\n",
       "       [3, 2, 3],\n",
       "       [2, 1, 4]])"
      ]
     },
     "execution_count": 20,
     "metadata": {},
     "output_type": "execute_result"
    }
   ],
   "source": [
    "np.delete(a, np.where(a>5)[1], axis=1) "
   ]
  },
  {
   "cell_type": "markdown",
   "metadata": {},
   "source": [
    "### 相关性\n",
    "* np.cov(x)计算协方差矩阵\n",
    "* np.corrcoef(x)相关系数矩阵——皮尔森(Pearson)系数\n",
    "* 如果x为一个二维数组，则计算出来的矩阵为每一行之间的相关系数"
   ]
  },
  {
   "cell_type": "code",
   "execution_count": 21,
   "metadata": {},
   "outputs": [
    {
     "data": {
      "text/plain": [
       "array([[2, 1, 4],\n",
       "       [3, 2, 4]])"
      ]
     },
     "execution_count": 21,
     "metadata": {},
     "output_type": "execute_result"
    }
   ],
   "source": [
    "a=[2,1,4]\n",
    "b=[3,2,4]\n",
    "x=np.array([a,b])\n",
    "x"
   ]
  },
  {
   "cell_type": "code",
   "execution_count": 23,
   "metadata": {},
   "outputs": [
    {
     "data": {
      "text/plain": [
       "array([[2.33333333, 1.5       ],\n",
       "       [1.5       , 1.        ]])"
      ]
     },
     "execution_count": 23,
     "metadata": {},
     "output_type": "execute_result"
    }
   ],
   "source": [
    "np.cov(a,b)"
   ]
  },
  {
   "cell_type": "code",
   "execution_count": 26,
   "metadata": {},
   "outputs": [
    {
     "data": {
      "text/plain": [
       "array([[2.33333333, 1.5       ],\n",
       "       [1.5       , 1.        ]])"
      ]
     },
     "execution_count": 26,
     "metadata": {},
     "output_type": "execute_result"
    }
   ],
   "source": [
    "np.cov(x)"
   ]
  },
  {
   "cell_type": "code",
   "execution_count": 24,
   "metadata": {},
   "outputs": [
    {
     "data": {
      "text/plain": [
       "array([[1.        , 0.98198051],\n",
       "       [0.98198051, 1.        ]])"
      ]
     },
     "execution_count": 24,
     "metadata": {},
     "output_type": "execute_result"
    }
   ],
   "source": [
    "np.corrcoef(a,b)"
   ]
  },
  {
   "cell_type": "code",
   "execution_count": 25,
   "metadata": {},
   "outputs": [
    {
     "data": {
      "text/plain": [
       "array([[1.        , 0.98198051],\n",
       "       [0.98198051, 1.        ]])"
      ]
     },
     "execution_count": 25,
     "metadata": {},
     "output_type": "execute_result"
    }
   ],
   "source": [
    "np.corrcoef(x)"
   ]
  },
  {
   "cell_type": "code",
   "execution_count": 27,
   "metadata": {},
   "outputs": [
    {
     "data": {
      "text/plain": [
       "0.9819805060619656"
      ]
     },
     "execution_count": 27,
     "metadata": {},
     "output_type": "execute_result"
    }
   ],
   "source": [
    "np.corrcoef(x)[0,1]"
   ]
  },
  {
   "cell_type": "markdown",
   "metadata": {},
   "source": [
    "### 协同过滤推荐算法的numpy实现\n",
    "基于物品的协同过滤算法（基于用户的其实也非常类似）:旨在寻找相似的物品，然后向目标用户推荐其已购买的物品的相似物品。\n",
    "\n",
    "similarity: 提取所有用户对Item1, Item2, Item3，Item4四个物品的评分，每个物品对应一条评分向量，向量间的相似度就是物品间的相似度。(注意计算向量间相似度时，必须元素对应，即某个用户必须同时对两个物品进行了评分)\n",
    "\n",
    "prediction: 假设目标用户购买了Item1, Item2，未购买Item3和Item4。那么Item3对目标用户的吸引力计算：是以Item1和Item2与Item3的相似度为权重，用户对Item1和Item2的评分加权均值即为目标用户对Item3的吸引力。\n",
    "\n",
    "相似度：pearson相关系数（最常用的）\n"
   ]
  },
  {
   "cell_type": "code",
   "execution_count": 29,
   "metadata": {},
   "outputs": [],
   "source": [
    "#每一行为某个用户对所有item的评分（比如豆瓣用户对电影的评分，0值意味着此用户没有对此item做过评分）\n",
    "data = np.array([[4.0, 2.0, 0.0, 2.0, 0.0, 2.0],\n",
    "                [3.5, 2.5, 3.0, 3.5, 2.5, 3.0],\n",
    "                [3.0, 0.0, 2.5, 5.0, 3.0, 0.0],\n",
    "                [2.5, 2.5, 0.0, 3.5, 4.0, 0.0],\n",
    "                [2.5, 2.0, 3.5, 0.0, 3.5, 2.0],\n",
    "                [0.0, 3.0, 4.0, 3.0, 3.0, 2.0],\n",
    "                [4.5, 1.5, 3.0, 5.0, 3.5, 0.0]])"
   ]
  },
  {
   "cell_type": "code",
   "execution_count": 30,
   "metadata": {},
   "outputs": [
    {
     "name": "stdout",
     "output_type": "stream",
     "text": [
      "[[2.  0. ]\n",
      " [2.5 3. ]\n",
      " [0.  2.5]\n",
      " [2.5 0. ]\n",
      " [2.  3.5]\n",
      " [3.  4. ]\n",
      " [1.5 3. ]]\n"
     ]
    }
   ],
   "source": [
    "#计算1,2两个物品的相似度（这里的编号和索引一致从0开始的）\n",
    "items = data[:, [1, 2]]\n",
    "print(items)\n"
   ]
  },
  {
   "cell_type": "code",
   "execution_count": 34,
   "metadata": {},
   "outputs": [
    {
     "data": {
      "text/plain": [
       "(array([0, 2, 3], dtype=int64), array([1, 0, 1], dtype=int64))"
      ]
     },
     "execution_count": 34,
     "metadata": {},
     "output_type": "execute_result"
    }
   ],
   "source": [
    "#找到有0元素的位置\n",
    "nn=np.where(items == 0)\n",
    "nn"
   ]
  },
  {
   "cell_type": "code",
   "execution_count": 36,
   "metadata": {},
   "outputs": [
    {
     "data": {
      "text/plain": [
       "array([[2.5, 3. ],\n",
       "       [2. , 3.5],\n",
       "       [3. , 4. ],\n",
       "       [1.5, 3. ]])"
      ]
     },
     "execution_count": 36,
     "metadata": {},
     "output_type": "execute_result"
    }
   ],
   "source": [
    "items1 = np.delete(items, nn[0],axis=0)\n",
    "items1"
   ]
  },
  {
   "cell_type": "code",
   "execution_count": 40,
   "metadata": {},
   "outputs": [
    {
     "data": {
      "text/plain": [
       "0.674199862463242"
      ]
     },
     "execution_count": 40,
     "metadata": {},
     "output_type": "execute_result"
    }
   ],
   "source": [
    "np.corrcoef(items1.T)[0,1]"
   ]
  },
  {
   "cell_type": "code",
   "execution_count": 39,
   "metadata": {},
   "outputs": [],
   "source": [
    "# 计算物品之间的相似矩阵\n",
    "\n",
    "def similarity(a,b,data):\n",
    "    items = data[:, [a, b]]\n",
    "    mm = np.where(items == 0)\n",
    "    items1 = np.delete(items, nn[0],axis=0)\n",
    "    if items1.size == 0:\n",
    "        return 0\n",
    "    else:\n",
    "        return np.corrcoef(items1.T)[0,1]"
   ]
  },
  {
   "cell_type": "code",
   "execution_count": 41,
   "metadata": {},
   "outputs": [
    {
     "name": "stdout",
     "output_type": "stream",
     "text": [
      "0.674199862463242\n"
     ]
    }
   ],
   "source": [
    "print(similarity(1,2,data))"
   ]
  },
  {
   "cell_type": "code",
   "execution_count": 44,
   "metadata": {},
   "outputs": [
    {
     "data": {
      "text/plain": [
       "array([[1., 1., 1., 1., 1., 1.],\n",
       "       [1., 1., 1., 1., 1., 1.],\n",
       "       [1., 1., 1., 1., 1., 1.],\n",
       "       [1., 1., 1., 1., 1., 1.],\n",
       "       [1., 1., 1., 1., 1., 1.],\n",
       "       [1., 1., 1., 1., 1., 1.]])"
      ]
     },
     "execution_count": 44,
     "metadata": {},
     "output_type": "execute_result"
    }
   ],
   "source": [
    "#存储所有相关系数\n",
    "n1 = data.shape[1]#items的数量\n",
    "simiMat = np.ones((n1,n1))\n",
    "simiMat"
   ]
  },
  {
   "cell_type": "code",
   "execution_count": 45,
   "metadata": {},
   "outputs": [
    {
     "data": {
      "text/plain": [
       "array([[ 1.        , -0.83565784, -0.96904869,  0.37562554,  0.15775211,\n",
       "        -0.39438875],\n",
       "       [-0.83565784,  1.        ,  0.67419986, -0.15393727, -0.67419986,\n",
       "         0.71818485],\n",
       "       [-0.96904869,  0.67419986,  1.        , -0.43589484,  0.09090909,\n",
       "         0.20751434],\n",
       "       [ 0.37562554, -0.15393727, -0.43589484,  1.        , -0.22832587,\n",
       "        -0.45801528],\n",
       "       [ 0.15775211, -0.67419986,  0.09090909, -0.22832587,  1.        ,\n",
       "        -0.76088591],\n",
       "       [-0.39438875,  0.71818485,  0.20751434, -0.45801528, -0.76088591,\n",
       "         1.        ]])"
      ]
     },
     "execution_count": 45,
     "metadata": {},
     "output_type": "execute_result"
    }
   ],
   "source": [
    "# 对所有items进行循环\n",
    "for i in range(0,n1):\n",
    "    for j in range(i+1,n1):\n",
    "        r1 = similarity(i,j,data)\n",
    "        simiMat[i,j] = r1\n",
    "        simiMat[j,i] = r1\n",
    "simiMat        "
   ]
  },
  {
   "cell_type": "markdown",
   "metadata": {},
   "source": [
    "###  计算items 3 对 用户 4 的吸引力"
   ]
  },
  {
   "cell_type": "code",
   "execution_count": 48,
   "metadata": {},
   "outputs": [
    {
     "data": {
      "text/plain": [
       "array([2.5, 2. , 3.5, 0. , 3.5, 2. ])"
      ]
     },
     "execution_count": 48,
     "metadata": {},
     "output_type": "execute_result"
    }
   ],
   "source": [
    "\n",
    "user=data[4,:]\n",
    "user"
   ]
  },
  {
   "cell_type": "code",
   "execution_count": 49,
   "metadata": {},
   "outputs": [
    {
     "data": {
      "text/plain": [
       "(array([0, 1, 2, 4, 5], dtype=int64),)"
      ]
     },
     "execution_count": 49,
     "metadata": {},
     "output_type": "execute_result"
    }
   ],
   "source": [
    "nn=np.where(user>0)\n",
    "nn"
   ]
  },
  {
   "cell_type": "code",
   "execution_count": 51,
   "metadata": {},
   "outputs": [
    {
     "data": {
      "text/plain": [
       "array([ 0.37562554, -0.15393727, -0.43589484, -0.22832587, -0.45801528])"
      ]
     },
     "execution_count": 51,
     "metadata": {},
     "output_type": "execute_result"
    }
   ],
   "source": [
    "s1=simiMat[3,:][nn[0]]\n",
    "s1"
   ]
  },
  {
   "cell_type": "code",
   "execution_count": 52,
   "metadata": {},
   "outputs": [
    {
     "data": {
      "text/plain": [
       "-1.5798617306293956"
      ]
     },
     "execution_count": 52,
     "metadata": {},
     "output_type": "execute_result"
    }
   ],
   "source": [
    "#norm求数组的L1范数，也就是绝对值的和\n",
    "sum(user[nn[0]]*s1)/np.linalg.norm(s1, 1)"
   ]
  },
  {
   "cell_type": "markdown",
   "metadata": {},
   "source": [
    "### 计算用户4所有未评分的商品对其的吸引力"
   ]
  },
  {
   "cell_type": "code",
   "execution_count": 54,
   "metadata": {},
   "outputs": [
    {
     "name": "stdout",
     "output_type": "stream",
     "text": [
      "(array([2, 4], dtype=int64), [-1.3052045285761362, -1.4802704202310857])\n"
     ]
    }
   ],
   "source": [
    "def xiyin(k,data,s1):\n",
    "    user = data[k,:]\n",
    "    n1=np.where(user>0)\n",
    "    n2=np.where(user==0.)#只需要未评分的商品，所以做此过滤\n",
    "    l1=[]\n",
    "    for i in n2[0]:\n",
    "        s2=s1[i,:][n1[0]]\n",
    "        l1.append(sum(user[n1[0]]*s2)/np.linalg.norm(s2, 1))\n",
    "    return n2[0],l1\n",
    "s1=simiMat\n",
    "print(xiyin(0,data,s1))"
   ]
  },
  {
   "cell_type": "code",
   "execution_count": null,
   "metadata": {},
   "outputs": [],
   "source": []
  }
 ],
 "metadata": {
  "kernelspec": {
   "display_name": "Python 3",
   "language": "python",
   "name": "python3"
  },
  "language_info": {
   "codemirror_mode": {
    "name": "ipython",
    "version": 3
   },
   "file_extension": ".py",
   "mimetype": "text/x-python",
   "name": "python",
   "nbconvert_exporter": "python",
   "pygments_lexer": "ipython3",
   "version": "3.6.4"
  }
 },
 "nbformat": 4,
 "nbformat_minor": 2
}
