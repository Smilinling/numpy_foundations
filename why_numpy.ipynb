{
 "cells": [
  {
   "cell_type": "markdown",
   "metadata": {},
   "source": [
    "# python 优点\n",
    "    * 变量不需预定义类型；\n",
    "    * 变量类型可变；\n",
    "    * 列表字典等数据结构动能强大——其元素可以是任意类型变量。\n",
    "  \n",
    "# python缺点\n",
    "    * 列表的嵌套实际上能构建出各种需要得数据结构；同时数据量增大时，会占据大量内存。\n",
    "    * python不用编译，并不是因为它不用翻译，而是因为它是在运行程序的时候，翻译一行执行一行。相比批量翻译然后执行，这种翻译一行执行一行的过程必然效率低下\n",
    "    \n",
    "# numpy \n",
    "    * 减少运算占用内存，提升运行算效率；numpy解决循环效率的思路很简单，就是用矩阵（数组）的运算函数来代替python的循环，而在numpy里，矩阵运算的函数底层都是用c或是fortran这样高效的语言来实现的。\n",
    "\n",
    "    * numpy数组 array与list比较：\n",
    "        元素类型必须一致——list的元素可以不一致\n",
    "        元素类型转化顺序：整数——浮点数——(bool——)字符串\n",
    "       "
   ]
  },
  {
   "cell_type": "markdown",
   "metadata": {},
   "source": [
    "## 当数组中出现类型一致时，numpy会让其强行一致，按照整数——浮点数——(bool——)字符串顺序\n"
   ]
  },
  {
   "cell_type": "code",
   "execution_count": 1,
   "metadata": {},
   "outputs": [
    {
     "name": "stdout",
     "output_type": "stream",
     "text": [
      "[1.  3.  5.6] 1.0\n"
     ]
    }
   ],
   "source": [
    "import numpy as np\n",
    "\n",
    "a = np.array([1,3,5.6])\n",
    "print(a,a[0])\n",
    "#数组有浮点时，整体转浮点型"
   ]
  },
  {
   "cell_type": "code",
   "execution_count": 2,
   "metadata": {},
   "outputs": [
    {
     "name": "stdout",
     "output_type": "stream",
     "text": [
      "[8.  3.  5.6]\n"
     ]
    }
   ],
   "source": [
    "# 赋值情况\n",
    "a[0] = 8\n",
    "print(a)\n"
   ]
  },
  {
   "cell_type": "code",
   "execution_count": 3,
   "metadata": {},
   "outputs": [
    {
     "name": "stdout",
     "output_type": "stream",
     "text": [
      "[5 1 4 5]\n"
     ]
    }
   ],
   "source": [
    "\n",
    "a=np.array([2,1,4,5])\n",
    "a[0]=5.6\n",
    "print(a)\n",
    "#数组有整数时时，整体转整数型"
   ]
  },
  {
   "cell_type": "code",
   "execution_count": 4,
   "metadata": {},
   "outputs": [
    {
     "name": "stdout",
     "output_type": "stream",
     "text": [
      "[1 2 4]\n"
     ]
    }
   ],
   "source": [
    "a=np.array([1,2,4])\n",
    "print(a)"
   ]
  },
  {
   "cell_type": "code",
   "execution_count": 5,
   "metadata": {},
   "outputs": [
    {
     "data": {
      "text/plain": [
       "array([2, 4, 1, 4, 5], dtype=int8)"
      ]
     },
     "execution_count": 5,
     "metadata": {},
     "output_type": "execute_result"
    }
   ],
   "source": [
    "#数组提供了定义类型的方法\n",
    "np.array([2.5,4,1,4,5.2],dtype=\"int8\")"
   ]
  },
  {
   "cell_type": "markdown",
   "metadata": {},
   "source": [
    "## numpy 效率，内存"
   ]
  },
  {
   "cell_type": "code",
   "execution_count": 7,
   "metadata": {},
   "outputs": [
    {
     "name": "stdout",
     "output_type": "stream",
     "text": [
      "Wall time: 165 ms\n",
      "20 8697464\n"
     ]
    }
   ],
   "source": [
    "import sys\n",
    "\n",
    "# 在 python 中需要循环实习\n",
    "\n",
    "list1 = range(1,1000000)\n",
    "%time list2 = [5*i for i in list1]    ##计算执行时间\n",
    "print(list2[3],sys.getsizeof(list2)) ##getsizeof函数是用来监控变量的内存占用\n"
   ]
  },
  {
   "cell_type": "code",
   "execution_count": 8,
   "metadata": {},
   "outputs": [
    {
     "name": "stdout",
     "output_type": "stream",
     "text": [
      "Wall time: 24 ms\n",
      "20 4000092\n"
     ]
    }
   ],
   "source": [
    "# numpy\n",
    "list_numpy = np.array(range(1,1000000))\n",
    "%time list_numpy1 = list_numpy*5\n",
    "print(list_numpy1[3],sys.getsizeof(list_numpy1))"
   ]
  }
 ],
 "metadata": {
  "kernelspec": {
   "display_name": "Python 3",
   "language": "python",
   "name": "python3"
  },
  "language_info": {
   "codemirror_mode": {
    "name": "ipython",
    "version": 3
   },
   "file_extension": ".py",
   "mimetype": "text/x-python",
   "name": "python",
   "nbconvert_exporter": "python",
   "pygments_lexer": "ipython3",
   "version": "3.6.4"
  }
 },
 "nbformat": 4,
 "nbformat_minor": 2
}
